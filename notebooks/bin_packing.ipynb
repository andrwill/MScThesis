{
 "cells": [
  {
   "cell_type": "markdown",
   "id": "67647c26-eeb1-414d-8d9a-55408cf4e261",
   "metadata": {},
   "source": [
    "# Bin Packing"
   ]
  },
  {
   "cell_type": "code",
   "execution_count": 8,
   "id": "d5dc56dc-9486-4109-9bbd-7b310470f557",
   "metadata": {},
   "outputs": [],
   "source": [
    "import numpy as np\n",
    "import pandas as pd\n",
    "import matplotlib.pyplot as plt\n",
    "\n",
    "rng = np.random.default_rng(seed=0)"
   ]
  },
  {
   "cell_type": "markdown",
   "id": "0ed47958-a291-4ea7-a617-41df63e1dbb2",
   "metadata": {},
   "source": [
    "## Problem Statement\n",
    "\n",
    "Given $n$ rational numbers $0 < s_{1}, \\dots, s_{n} < 1$, the **bin packing problem** asks for the minimum integer $k \\ge 1$ such that there exists a function $f : [n] \\to [k]$ for which\n",
    "$$\n",
    "\\max\n",
    "    \\Bigg\\{\n",
    "        \\sum_{i \\in f^{-1}(\\{j\\})} \n",
    "            s_{i} \n",
    "        \\,\n",
    "        \\Bigg\\vert\n",
    "        \\,\n",
    "        j \\in [k]\n",
    "    \\Bigg\\} \n",
    "    < \n",
    "    1.\n",
    "$$"
   ]
  },
  {
   "cell_type": "markdown",
   "id": "fa865215-6702-498b-a307-6b02d24fd32a",
   "metadata": {},
   "source": [
    "## Complexity\n",
    "\n",
    "It can be shown that the bin-packing problem is NP-hard. For practical purposes, this means we should look for approximation algorithms rather than exact algorithms.\n",
    "\n",
    "However, the variant in which the number of different item sizes is a fixed $d = O(1)$, known as \"high-multiplicity bin packing\", can be solved in polynomial time."
   ]
  },
  {
   "cell_type": "markdown",
   "id": "e4f48ca2-ae9f-4824-a63b-6a8aa08cdaa4",
   "metadata": {},
   "source": [
    "## Algorithms"
   ]
  },
  {
   "cell_type": "markdown",
   "id": "fb83bd82-9305-4c55-9817-a02c8401c959",
   "metadata": {},
   "source": [
    "### Approximation algorithms"
   ]
  },
  {
   "cell_type": "code",
   "execution_count": 9,
   "id": "4d04f03d-8378-4170-96a7-ceeb9f97d5c3",
   "metadata": {},
   "outputs": [],
   "source": [
    "num_boxes = 100\n",
    "box_widths = rng.uniform(0, 1, num_boxes)"
   ]
  },
  {
   "cell_type": "code",
   "execution_count": 10,
   "id": "ca49c7a0-8984-40d5-8100-b659cb46de19",
   "metadata": {},
   "outputs": [],
   "source": [
    "def is_valid_packing(box_widths, bins):\n",
    "  \"\"\"Checks if `bins` is a valid packing of `box_widths`.\"\"\"\n",
    "  if np.any(box_widths > 1) or np.any(box_widths < 0):\n",
    "    raise ValueError('All entries of `box_widths` must lie between 0 and 1, inclusive.')\n",
    "  \n",
    "  x = np.zeros(bins[0].shape)\n",
    "  for b in bins:\n",
    "    # If the capacity of the current bin is exceeded, return false.\n",
    "    if np.sum(box_widths[b == 1]) > 1:\n",
    "      return False\n",
    "    \n",
    "    x += b\n",
    "    \n",
    "  # If any box is not in exactly one of the bins, return false.\n",
    "  if np.any(x != 1):\n",
    "    return False\n",
    "  \n",
    "  # If each box is in exactly one bin, and no bin is overfull, return true.\n",
    "  return True\n",
    "\n",
    "# Valid packing since it respects all criteria.\n",
    "assert is_valid_packing(\n",
    "  np.array([0.3, 0.6, 0.9]), \n",
    "  (np.array([1, 1, 0]), np.array([0, 0, 1]))\n",
    ")\n",
    "\n",
    "# Invalid packing since item 1 is placed in more than one bin.\n",
    "assert not is_valid_packing(\n",
    "  np.array([0.3, 0.6, 0.9]), \n",
    "  (np.array([1, 1, 0]), np.array([0, 1, 1]))\n",
    ")\n",
    "\n",
    "# Invalid packing since item 1 is not placed in any bin.\n",
    "assert not is_valid_packing(\n",
    "  np.array([0.3, 0.6, 0.9]), \n",
    "  (np.array([1, 0, 0]), np.array([0, 0, 1]))\n",
    ")\n",
    "\n",
    "# Invalid packing since bin 1 contains item 1 twice.\n",
    "assert not is_valid_packing(\n",
    "  np.array([0.3, 0.6, 0.9]), \n",
    "  (np.array([1, 0, 0]), np.array([0, 2, 1]))\n",
    ")\n",
    "\n",
    "# Invalid packing since the capacity of bin 1 is exceeded.\n",
    "assert not is_valid_packing(\n",
    "  np.array([0.3, 0.6, 0.9]), \n",
    "  (np.array([1, 0, 0]), np.array([0, 1, 1]))\n",
    ")"
   ]
  },
  {
   "cell_type": "markdown",
   "id": "de692e3e-0551-4cee-8c7e-9411f61066e4",
   "metadata": {},
   "source": [
    "#### NEXT-FIT\n",
    "\n",
    "A simple approximation algorithms for the bin-packing problem is the **NEXT-FIT** algorithm. It keeps only one bin open and places the current item in the bin if it fits, or opens a new bin if it does not."
   ]
  },
  {
   "cell_type": "code",
   "execution_count": 11,
   "id": "228bbc47-0a30-4e5c-b095-7c71fbb7aebd",
   "metadata": {},
   "outputs": [
    {
     "name": "stdout",
     "output_type": "stream",
     "text": [
      "Number of bins used by NEXT-FIT: 70.\n"
     ]
    }
   ],
   "source": [
    "def next_fit(box_widths):\n",
    "  \"\"\"Solves BIN-PACKING approximately using NEXT-FIT.\"\"\"\n",
    "  \n",
    "  num_boxes = box_widths.size\n",
    "  \n",
    "  bins = []\n",
    "  current_bin = np.zeros(num_boxes)\n",
    "  available_space = 1\n",
    "  for i in range(num_boxes):\n",
    "    box_width = box_widths[i]\n",
    "    \n",
    "    # If the current box is too wide, open a new bin.\n",
    "    if box_width > available_space:\n",
    "      bins.append(current_bin)\n",
    "      current_bin = np.zeros(num_boxes)\n",
    "      available_space = 1\n",
    "    \n",
    "    # Place the current box in current bin.\n",
    "    current_bin[i] = 1\n",
    "    available_space -= box_width\n",
    "  \n",
    "  bins.append(current_bin) # Append the final bin.\n",
    "  \n",
    "  return tuple(bins)\n",
    "\n",
    "bins = next_fit(box_widths)\n",
    "assert is_valid_packing(box_widths, bins)\n",
    "\n",
    "print(f'Number of bins used by NEXT-FIT: {len(bins)}.')"
   ]
  },
  {
   "cell_type": "markdown",
   "id": "a9c776b6-6475-4f36-9c5c-d82e893a796f",
   "metadata": {},
   "source": [
    "#### FIRST-FIT\n",
    "\n",
    "A slightly more sophisticated algorithm is the **FIRST-FIT** algorithm. This algorithm keeps all bins open and placed each item in the first bin with enough remaining space to fit the item."
   ]
  },
  {
   "cell_type": "code",
   "execution_count": 12,
   "id": "ea8ef0b0-5a08-4836-ad90-be27fa7bf37b",
   "metadata": {},
   "outputs": [
    {
     "name": "stdout",
     "output_type": "stream",
     "text": [
      "Number of bins used by FIRST-FIT: 61.\n"
     ]
    }
   ],
   "source": [
    "def first_fit(box_widths):\n",
    "  \"\"\"Solves BIN-PACKING approximately using FIRST-FIT.\"\"\"\n",
    "  \n",
    "  num_boxes = box_widths.size\n",
    "  \n",
    "  # Start with one empty bin.\n",
    "  bins = [np.zeros(num_boxes)]\n",
    "  available_space = [1]\n",
    "  \n",
    "  for i in range(box_widths.size):\n",
    "    box_width = box_widths[i]\n",
    "    is_box_placed = False\n",
    "    j = 0\n",
    "    while not is_box_placed and j < len(bins):\n",
    "      # Place box i in bin j if it fits.\n",
    "      if box_width < available_space[j]:\n",
    "        bins[j][i] = 1\n",
    "        available_space[j] -= box_width\n",
    "        \n",
    "        is_box_placed = True\n",
    "      else:\n",
    "        j += 1\n",
    "    \n",
    "    # If box i has not been placed, place it in a new bin.\n",
    "    if not is_box_placed:\n",
    "      bins.append(np.zeros(num_boxes))\n",
    "      bins[-1][i] = 1\n",
    "      available_space.append(1 - box_width)\n",
    "      \n",
    "  return tuple(bins)\n",
    "\n",
    "bins = first_fit(box_widths)\n",
    "\n",
    "assert is_valid_packing(box_widths, bins)\n",
    "\n",
    "print(f'Number of bins used by FIRST-FIT: {len(bins)}.')"
   ]
  },
  {
   "cell_type": "markdown",
   "id": "d6eebddd-0348-49f9-857e-48ff87574a29",
   "metadata": {},
   "source": [
    "#### FIRST-FIT-DECREASING\n",
    "\n",
    "The **FIRST-FIT-DECREASING** algorithm sorts the widths in decreasing order and calls FIRST-FIT on the sorted list."
   ]
  },
  {
   "cell_type": "code",
   "execution_count": 14,
   "id": "711e649b-1a35-4a4c-8556-c645c455bb78",
   "metadata": {},
   "outputs": [
    {
     "name": "stdout",
     "output_type": "stream",
     "text": [
      "Number of bins used by FIRST-FIT-DECREASING: 58.\n"
     ]
    }
   ],
   "source": [
    "def first_fit_decreasing(box_widths):\n",
    "  \"\"\"Solves BIN-PACKING approximately using FIRST-FIT-DECREASING.\"\"\"\n",
    "  \n",
    "  # Indices that will sort `box_widths` in decreasing order.\n",
    "  indices = np.argsort(-box_widths)\n",
    "  \n",
    "  # Get first-fit bin packing when the box widths\n",
    "  # are sorted in decreasing order.\n",
    "  bins = first_fit(box_widths[indices])\n",
    "  \n",
    "  # (https://stackoverflow.com/questions/52825417/numpy-unsort-undo-a-reverse-descending-sort)\n",
    "  # Undo the sort by creating index array which when permuted by\n",
    "  # `indices` equals np.array([0, 1, ..., box_widths.size - 1])\n",
    "  undo_sort = np.empty_like(indices)\n",
    "  undo_sort[indices] = np.arange(box_widths.size)\n",
    "  \n",
    "  # Unpermute the indices\n",
    "  bins = [b[undo_sort] for b in bins]\n",
    "  \n",
    "  return tuple(bins)\n",
    "  \n",
    "bins = first_fit_decreasing(box_widths)\n",
    "\n",
    "assert is_valid_packing(box_widths, bins)\n",
    "\n",
    "print(f'Number of bins used by FIRST-FIT-DECREASING: {len(bins)}.')"
   ]
  },
  {
   "cell_type": "markdown",
   "id": "4b32ca95-4a01-4078-aabb-f24a82404f3c",
   "metadata": {},
   "source": [
    "#### An example problem\n",
    "\n",
    "If the item sizes are $S = \\begin{bmatrix}0.09 & 0.69 & 0.79 & 0.29 & 0.89 & 0.19\\end{bmatrix}$, then\n",
    "$$\n",
    "\\begin{aligned}\n",
    "\\text{NextFit}(S) &= \\begin{bmatrix}\n",
    "    0.09 & 0.69\n",
    "    \\\\\\hline\n",
    "    0.79\n",
    "    \\\\\\hline\n",
    "    0.29\n",
    "    \\\\\\hline\n",
    "    0.89\n",
    "    \\\\\\hline\n",
    "    0.19\n",
    "\\end{bmatrix},\n",
    "\\\\\n",
    "\\text{FirstFit}(S) &= \\begin{bmatrix}\n",
    "    0.09 & 0.69 & 0.19\n",
    "    \\\\\\hline\n",
    "    0.79\n",
    "    \\\\\\hline\n",
    "    0.29\n",
    "    \\\\\\hline\n",
    "    0.89\n",
    "\\end{bmatrix},\n",
    "\\\\\n",
    "\\text{FirstFitDecreasing}(S) &= \\begin{bmatrix}\n",
    "    0.89 & 0.09\n",
    "    \\\\\\hline\n",
    "    0.79 & 0.19\n",
    "    \\\\\\hline\n",
    "    0.69 & 0.29\n",
    "\\end{bmatrix}.\n",
    "\\end{aligned}\n",
    "$$"
   ]
  },
  {
   "cell_type": "code",
   "execution_count": 15,
   "id": "acecddca-f97f-4e34-b56e-c811824b64d9",
   "metadata": {},
   "outputs": [
    {
     "name": "stdout",
     "output_type": "stream",
     "text": [
      "NextFit\n",
      "[0.09 0.69]\n",
      "[0.79]\n",
      "[0.29]\n",
      "[0.89]\n",
      "[0.19]\n",
      "--------------------\n",
      "FirstFit\n",
      "[0.09 0.69 0.19]\n",
      "[0.79]\n",
      "[0.29]\n",
      "[0.89]\n",
      "--------------------\n",
      "FirstFitDecreasing\n",
      "[0.09 0.89]\n",
      "[0.79 0.19]\n",
      "[0.69 0.29]\n"
     ]
    }
   ],
   "source": [
    "items = np.array([0.09, 0.69, 0.79, 0.29, 0.89, 0.19])\n",
    "\n",
    "def print_bins(items, bins):\n",
    "  filled_bins = [ items[b==1] for b in bins ]\n",
    "  for b in filled_bins:\n",
    "    print(b)\n",
    "\n",
    "print('NextFit')\n",
    "print_bins(items, next_fit(items))\n",
    "print('-'*20)\n",
    "print('FirstFit')\n",
    "print_bins(items, first_fit(items))\n",
    "print('-'*20)\n",
    "print('FirstFitDecreasing')\n",
    "print_bins(items, first_fit_decreasing(items))"
   ]
  },
  {
   "cell_type": "markdown",
   "id": "18d7a81b-d504-4046-8468-cee619bd22a9",
   "metadata": {},
   "source": [
    "### Theoretical approximation guarantees\n",
    "\n",
    "Two useful notions for evaluating the performance of an approximiation algorithm $\\text{A}$ are the *worst-case performance ratio*\n",
    "$$\n",
    "R_{\\text{A}} \n",
    "\\overset{\\text{def}}{=} \n",
    "\\inf_{n \\ge 1}R^{(n)}_{\\text{A}}\n",
    "$$\n",
    "and the *asymptotic worst-case performance ratio*\n",
    "$$\n",
    "R^{\\infty}_{\\text{A}}\n",
    "\\overset{\\text{def}}{=} \n",
    "\\liminf_{n \\to \\infty}R^{(n)}_{\\text{A}},\n",
    "$$\n",
    "where \n",
    "$$\n",
    "R^{(n)}_{\\text{A}} \n",
    "\\overset{\\text{def}}{=} \n",
    "\\min_{S \\in (0, 1)^{n}}\n",
    "    \\frac{\\text{A}(S)}{\\text{OPT}(S)}\n",
    "$$ \n",
    "is the worst-case performance ratio for $\\text{A}$ on problem instances with exactly $n$ items.\n",
    "\n",
    "The online bin-packing algorithm with the lowest asymptotic worst-case approximation ratio listed on Wikipedia is $\\text{Harmonic++}$ (H++), with asymptotic worst-case approximation ratio $1.58333 \\le R_{\\text{H++}}^{\\infty} \\le 1.58889$."
   ]
  },
  {
   "cell_type": "markdown",
   "id": "15f8c982-ae80-4d5c-bb67-81338b75a158",
   "metadata": {},
   "source": [
    "### Empirical performance evalutation\n",
    "\n",
    "An alternative to theoretical analysis is to simply compute performance metrics over specific problem instances. We have already seen this for one problem instance with $n = 100$ random items $X_{1}, \\dots, X_{n} \\overset{\\text{iid}}{\\sim} \\text{Uniform}(0, 1)$.\n",
    "\n",
    "The more general question would be to ask what happens on *average* if we instead use an *arbitrary* probability distribution $\\text{P}$ over $(0, 1)$? We will now explore the answer empirically for different distributions."
   ]
  },
  {
   "cell_type": "code",
   "execution_count": 71,
   "id": "19c10ed2-0064-4a82-a5e8-deb4f26b7438",
   "metadata": {},
   "outputs": [
    {
     "name": "stdout",
     "output_type": "stream",
     "text": [
      "(3,)\n"
     ]
    },
    {
     "data": {
      "text/html": [
       "<div>\n",
       "<style scoped>\n",
       "    .dataframe tbody tr th:only-of-type {\n",
       "        vertical-align: middle;\n",
       "    }\n",
       "\n",
       "    .dataframe tbody tr th {\n",
       "        vertical-align: top;\n",
       "    }\n",
       "\n",
       "    .dataframe thead th {\n",
       "        text-align: right;\n",
       "    }\n",
       "</style>\n",
       "<table border=\"1\" class=\"dataframe\">\n",
       "  <thead>\n",
       "    <tr style=\"text-align: right;\">\n",
       "      <th></th>\n",
       "      <th>Average Performance</th>\n",
       "      <th>Worst-Case Performance</th>\n",
       "    </tr>\n",
       "    <tr>\n",
       "      <th>Algorithm</th>\n",
       "      <th></th>\n",
       "      <th></th>\n",
       "    </tr>\n",
       "  </thead>\n",
       "  <tbody>\n",
       "    <tr>\n",
       "      <th>Next Fit</th>\n",
       "      <td>26.503</td>\n",
       "      <td>33.0</td>\n",
       "    </tr>\n",
       "    <tr>\n",
       "      <th>First Fit</th>\n",
       "      <td>23.331</td>\n",
       "      <td>29.0</td>\n",
       "    </tr>\n",
       "    <tr>\n",
       "      <th>First Fit Decreasing</th>\n",
       "      <td>22.869</td>\n",
       "      <td>27.0</td>\n",
       "    </tr>\n",
       "  </tbody>\n",
       "</table>\n",
       "</div>"
      ],
      "text/plain": [
       "                     Average Performance Worst-Case Performance\n",
       "Algorithm                                                      \n",
       "Next Fit                          26.503                   33.0\n",
       "First Fit                         23.331                   29.0\n",
       "First Fit Decreasing              22.869                   27.0"
      ]
     },
     "execution_count": 71,
     "metadata": {},
     "output_type": "execute_result"
    }
   ],
   "source": [
    "def uniform_boxes(num_boxes=1):\n",
    "  yield rng.uniform(0, 1, num_boxes)\n",
    "\n",
    "def compute_perf_stats(algorithms, sampler, num_boxes, num_samples):\n",
    "  def format_alg_name(algorithm):\n",
    "    return algorithm.__name__.replace('_', ' ').title()\n",
    "    \n",
    "  alg_names = [ format_alg_name(alg) for alg in algorithms ]\n",
    "  \n",
    "  num_algorithms = len(algorithms)\n",
    "  num_bins_arr = np.zeros((num_algorithms, num_samples))\n",
    "  \n",
    "  for j in range(num_samples):\n",
    "    sample = sampler(num_boxes)\n",
    "    for i in range(num_algorithms):\n",
    "      num_bins_arr[i][j] = len(algorithms[i](sample))\n",
    "  \n",
    "  avg_num_bins = np.mean(num_bins_arr, axis=1)\n",
    "  highest_num_bins = np.max(num_bins_arr, axis=1)\n",
    "  \n",
    "  print(avg_num_bins.shape)\n",
    "  \n",
    "  # (https://stackoverflow.com/questions/54576615/matplotlib-how-to-plot-bar-graphs-side-by-side-to-compare-values-between-2-col)\n",
    "  # For generating bar plot later\n",
    "  performance_statistics = pd.DataFrame(\n",
    "    [alg_names, avg_num_bins, highest_num_bins]\n",
    "  ).T\n",
    "  performance_statistics.columns = [\n",
    "    'Algorithm', \n",
    "    'Average Performance', \n",
    "    'Worst-Case Performance'\n",
    "  ]\n",
    "  performance_statistics.set_index(['Algorithm'], inplace=True)\n",
    "  \n",
    "  return performance_statistics\n",
    "\n",
    "N = 100\n",
    "a, b = 2, 7\n",
    "sampler = lambda _: rng.beta(a, b, N)\n",
    "algorithms = [next_fit, first_fit, first_fit_decreasing]\n",
    "perf_stats = compute_perf_stats(\n",
    "  algorithms, \n",
    "  sampler, \n",
    "  num_boxes=N, \n",
    "  num_samples=10*N\n",
    ")\n",
    "perf_stats"
   ]
  },
  {
   "cell_type": "code",
   "execution_count": 78,
   "id": "22667216-976b-42e3-b89b-948700ce8dbe",
   "metadata": {},
   "outputs": [
    {
     "data": {
      "image/png": "[encoded data removed]",
      "text/plain": [
       "<Figure size 432x288 with 1 Axes>"
      ]
     },
     "metadata": {
      "needs_background": "light"
     },
     "output_type": "display_data"
    }
   ],
   "source": [
    "perf_stats.plot.bar() # https://stackoverflow.com/questions/54576615/matplotlib-how-to-plot-bar-graphs-side-by-side-to-compare-values-between-2-col\n",
    "plt.show()"
   ]
  },
  {
   "cell_type": "markdown",
   "id": "dc67d453-e173-4d67-a378-eb9c15458013",
   "metadata": {},
   "source": [
    "### Exact Algorithms (**TODO**)"
   ]
  },
  {
   "cell_type": "code",
   "execution_count": null,
   "id": "1977e713-5514-4be5-b05e-b99472ee76c7",
   "metadata": {},
   "outputs": [],
   "source": []
  }
 ],
 "metadata": {
  "kernelspec": {
   "display_name": "Python 3 (ipykernel)",
   "language": "python",
   "name": "python3"
  },
  "language_info": {
   "codemirror_mode": {
    "name": "ipython",
    "version": 3
   },
   "file_extension": ".py",
   "mimetype": "text/x-python",
   "name": "python",
   "nbconvert_exporter": "python",
   "pygments_lexer": "ipython3",
   "version": "3.10.6"
  }
 },
 "nbformat": 4,
 "nbformat_minor": 5
}
