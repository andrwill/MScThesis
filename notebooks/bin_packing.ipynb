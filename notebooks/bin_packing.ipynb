{
 "cells": [
  {
   "cell_type": "markdown",
   "id": "67647c26-eeb1-414d-8d9a-55408cf4e261",
   "metadata": {},
   "source": [
    "# Bin Packing"
   ]
  },
  {
   "cell_type": "code",
   "execution_count": 5,
   "id": "d5dc56dc-9486-4109-9bbd-7b310470f557",
   "metadata": {},
   "outputs": [],
   "source": [
    "import numpy as np\n",
    "import matplotlib.pyplot as plt\n",
    "\n",
    "rng = np.random.default_rng(seed=0)"
   ]
  },
  {
   "cell_type": "markdown",
   "id": "0ed47958-a291-4ea7-a617-41df63e1dbb2",
   "metadata": {},
   "source": [
    "## Problem Statement\n",
    "\n",
    "Given $n$ rational numbers $0 < s_{1}, \\dots, s_{n} < 1$, the **bin-packing problem** asks for the minimum integer $k \\ge 1$ such that there exists a function $f : [n] \\to [k]$ for which\n",
    "$$\n",
    "\\max\n",
    "    \\Bigg\\{\n",
    "        \\sum_{i \\in f^{-1}(\\{j\\})} \n",
    "            s_{i} \n",
    "        \\,\n",
    "        \\Bigg\\vert\n",
    "        \\,\n",
    "        j \\in [k]\n",
    "    \\Bigg\\} \n",
    "    < \n",
    "    1.\n",
    "$$"
   ]
  },
  {
   "cell_type": "markdown",
   "id": "fa865215-6702-498b-a307-6b02d24fd32a",
   "metadata": {},
   "source": [
    "## Complexity\n",
    "\n",
    "It can be shown that the bin-packing problem is NP-hard. For practical purposes, this means we should look for approximation algorithms rather than exact algorithms.\n",
    "\n",
    "However, the variant in which the number of different item sizes is a fixed $d = O(1)$, known as \"high-multiplicity bin packing\", can be solved in polynomial time."
   ]
  },
  {
   "cell_type": "markdown",
   "id": "e4f48ca2-ae9f-4824-a63b-6a8aa08cdaa4",
   "metadata": {},
   "source": [
    "## Algorithms"
   ]
  },
  {
   "cell_type": "markdown",
   "id": "fb83bd82-9305-4c55-9817-a02c8401c959",
   "metadata": {},
   "source": [
    "### Approximation Algorithms"
   ]
  },
  {
   "cell_type": "code",
   "execution_count": 9,
   "id": "4d04f03d-8378-4170-96a7-ceeb9f97d5c3",
   "metadata": {},
   "outputs": [],
   "source": [
    "num_boxes = 100\n",
    "box_widths = rng.uniform(0, 1, num_boxes)"
   ]
  },
  {
   "cell_type": "code",
   "execution_count": 10,
   "id": "ca49c7a0-8984-40d5-8100-b659cb46de19",
   "metadata": {},
   "outputs": [],
   "source": [
    "def is_valid_packing(box_widths, bins):\n",
    "  \"\"\"Checks if `bins` is a valid packing of `box_widths`.\"\"\"\n",
    "  if np.any(box_widths > 1) or np.any(box_widths < 0):\n",
    "    raise ValueError('All entries of `box_widths` must lie between 0 and 1, inclusive.')\n",
    "  \n",
    "  x = np.zeros(bins[0].shape)\n",
    "  for b in bins:\n",
    "    # If the capacity of the current bin is exceeded, return false.\n",
    "    if np.sum(box_widths[b == 1]) > 1:\n",
    "      return False\n",
    "    \n",
    "    x += b\n",
    "    \n",
    "  # If any box is not in exactly one of the bins, return false.\n",
    "  if np.any(x != 1):\n",
    "    return False\n",
    "  \n",
    "  # If each box is in exactly one bin, and no bin is overfull, return true.\n",
    "  return True\n",
    "\n",
    "# Valid packing since it respects all criteria.\n",
    "assert is_valid_packing(\n",
    "  np.array([0.3, 0.6, 0.9]), \n",
    "  (np.array([1, 1, 0]), np.array([0, 0, 1]))\n",
    ")\n",
    "\n",
    "# Invalid packing since item 1 is placed in more than one bin.\n",
    "assert not is_valid_packing(\n",
    "  np.array([0.3, 0.6, 0.9]), \n",
    "  (np.array([1, 1, 0]), np.array([0, 1, 1]))\n",
    ")\n",
    "\n",
    "# Invalid packing since item 1 is not placed in any bin.\n",
    "assert not is_valid_packing(\n",
    "  np.array([0.3, 0.6, 0.9]), \n",
    "  (np.array([1, 0, 0]), np.array([0, 0, 1]))\n",
    ")\n",
    "\n",
    "# Invalid packing since bin 1 contains item 1 twice.\n",
    "assert not is_valid_packing(\n",
    "  np.array([0.3, 0.6, 0.9]), \n",
    "  (np.array([1, 0, 0]), np.array([0, 2, 1]))\n",
    ")\n",
    "\n",
    "# Invalid packing since the capacity of bin 1 is exceeded.\n",
    "assert not is_valid_packing(\n",
    "  np.array([0.3, 0.6, 0.9]), \n",
    "  (np.array([1, 0, 0]), np.array([0, 1, 1]))\n",
    ")"
   ]
  },
  {
   "cell_type": "markdown",
   "id": "de692e3e-0551-4cee-8c7e-9411f61066e4",
   "metadata": {},
   "source": [
    "#### NEXT-FIT\n",
    "\n",
    "A simple approximation algorithms for the bin-packing problem is the **NEXT-FIT** algorithm. It keeps only one bin open and places the current item in the bin if it fits, or opens a new bin if it does not."
   ]
  },
  {
   "cell_type": "code",
   "execution_count": 12,
   "id": "228bbc47-0a30-4e5c-b095-7c71fbb7aebd",
   "metadata": {},
   "outputs": [
    {
     "name": "stdout",
     "output_type": "stream",
     "text": [
      "Number of bins used by NEXT-FIT: 71.\n"
     ]
    }
   ],
   "source": [
    "def next_fit(box_widths):\n",
    "  \"\"\"Solves BIN-PACKING approximately using NEXT-FIT.\"\"\"\n",
    "  \n",
    "  num_boxes = box_widths.size\n",
    "  \n",
    "  bins = []\n",
    "  current_bin = np.zeros(num_boxes)\n",
    "  available_space = 1\n",
    "  for i in range(num_boxes):\n",
    "    box_width = box_widths[i]\n",
    "    \n",
    "    # If the current box is too wide, open a new bin.\n",
    "    if box_width > available_space:\n",
    "      bins.append(current_bin)\n",
    "      current_bin = np.zeros(num_boxes)\n",
    "      available_space = 1\n",
    "    \n",
    "    # Place the current box in current bin.\n",
    "    current_bin[i] = 1\n",
    "    available_space -= box_width\n",
    "  \n",
    "  bins.append(current_bin) # Append the final bin.\n",
    "  \n",
    "  return tuple(bins)\n",
    "\n",
    "bins = next_fit(box_widths)\n",
    "assert is_valid_packing(box_widths, bins)\n",
    "\n",
    "print(f'Number of bins used by NEXT-FIT: {len(bins)}.')"
   ]
  },
  {
   "cell_type": "markdown",
   "id": "a9c776b6-6475-4f36-9c5c-d82e893a796f",
   "metadata": {},
   "source": [
    "#### FIRST-FIT\n",
    "\n",
    "A slightly more sophisticated algorithm is the **FIRST-FIT** algorithm. This algorithm keeps all bins open and placed each item in the first bin with enough remaining space to fit the item."
   ]
  },
  {
   "cell_type": "code",
   "execution_count": 15,
   "id": "ea8ef0b0-5a08-4836-ad90-be27fa7bf37b",
   "metadata": {},
   "outputs": [
    {
     "name": "stdout",
     "output_type": "stream",
     "text": [
      "Number of bins used by FIRST-FIT: 59.\n"
     ]
    }
   ],
   "source": [
    "def first_fit(box_widths):\n",
    "  \"\"\"Solves BIN-PACKING approximately using FIRST-FIT.\"\"\"\n",
    "  \n",
    "  num_boxes = box_widths.size\n",
    "  \n",
    "  # Start with one empty bin.\n",
    "  bins = [np.zeros(num_boxes)]\n",
    "  available_space = [1]\n",
    "  \n",
    "  for i in range(box_widths.size):\n",
    "    box_width = box_widths[i]\n",
    "    is_box_placed = False\n",
    "    j = 0\n",
    "    while not is_box_placed and j < len(bins):\n",
    "      # Place box i in bin j if it fits.\n",
    "      if box_width < available_space[j]:\n",
    "        bins[j][i] = 1\n",
    "        available_space[j] -= box_width\n",
    "        \n",
    "        is_box_placed = True\n",
    "      else:\n",
    "        j += 1\n",
    "    \n",
    "    # If box i has not been placed, place it in a new bin.\n",
    "    if not is_box_placed:\n",
    "      bins.append(np.zeros(num_boxes))\n",
    "      bins[-1][i] = 1\n",
    "      available_space.append(1 - box_width)\n",
    "      \n",
    "  return tuple(bins)\n",
    "\n",
    "bins = first_fit(box_widths)\n",
    "\n",
    "assert is_valid_packing(box_widths, bins)\n",
    "\n",
    "print(f'Number of bins used by FIRST-FIT: {len(bins)}.')"
   ]
  },
  {
   "cell_type": "markdown",
   "id": "d6eebddd-0348-49f9-857e-48ff87574a29",
   "metadata": {},
   "source": [
    "#### FIRST-FIT-DECREASING\n",
    "\n",
    "The **FIRST-FIT-DECREASING** algorithm sorts the widths in decreasing order and calls FIRST-FIT on the sorted list."
   ]
  },
  {
   "cell_type": "code",
   "execution_count": 16,
   "id": "711e649b-1a35-4a4c-8556-c645c455bb78",
   "metadata": {},
   "outputs": [
    {
     "name": "stdout",
     "output_type": "stream",
     "text": [
      "Number of bins used by FIRST-FIT-DECREASING: 56.\n"
     ]
    }
   ],
   "source": [
    "def first_fit_decreasing(box_widths):\n",
    "  \"\"\"Solves BIN-PACKING approximately using FIRST-FIT-DECREASING.\"\"\"\n",
    "  \n",
    "  # Indices that will sort `box_widths` in decreasing order.\n",
    "  indices = np.argsort(-box_widths)\n",
    "  \n",
    "  # Get first-fit bin packing when the box widths\n",
    "  # are sorted in decreasing order.\n",
    "  bins = first_fit(box_widths[indices])\n",
    "  \n",
    "  # (Shamelessly taken from https://stackoverflow.com/questions/52825417/numpy-unsort-undo-a-reverse-descending-sort)\n",
    "  # Undo the sort by creating index array which when permuted by\n",
    "  # `indices` equals np.array([0, 1, ..., box_widths.size - 1])\n",
    "  undo_sort = np.empty_like(indices)\n",
    "  undo_sort[indices] = np.arange(box_widths.size)\n",
    "  \n",
    "  # Unpermute the indices\n",
    "  bins = [b[undo_sort] for b in bins]\n",
    "  \n",
    "  return tuple(bins)\n",
    "  \n",
    "bins = first_fit_decreasing(box_widths)\n",
    "\n",
    "assert is_valid_packing(box_widths, bins)\n",
    "\n",
    "print(f'Number of bins used by FIRST-FIT-DECREASING: {len(bins)}.')"
   ]
  }
 ],
 "metadata": {
  "kernelspec": {
   "display_name": "Python 3 (ipykernel)",
   "language": "python",
   "name": "python3"
  },
  "language_info": {
   "codemirror_mode": {
    "name": "ipython",
    "version": 3
   },
   "file_extension": ".py",
   "mimetype": "text/x-python",
   "name": "python",
   "nbconvert_exporter": "python",
   "pygments_lexer": "ipython3",
   "version": "3.10.4"
  }
 },
 "nbformat": 4,
 "nbformat_minor": 5
}
